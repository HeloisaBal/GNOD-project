{
 "cells": [
  {
   "cell_type": "code",
   "execution_count": 1,
   "id": "8b5306f2",
   "metadata": {},
   "outputs": [],
   "source": [
    "import requests\n",
    "import pandas as pd\n",
    "from time import sleep\n",
    "from random import randint\n",
    "import pandas as pd\n",
    "import numpy as np\n",
    "import spotipy\n",
    "from spotipy.oauth2 import SpotifyClientCredentials\n",
    "import pickle"
   ]
  },
  {
   "cell_type": "code",
   "execution_count": 2,
   "id": "be6626bc",
   "metadata": {},
   "outputs": [
    {
     "data": {
      "text/html": [
       "<div>\n",
       "<style scoped>\n",
       "    .dataframe tbody tr th:only-of-type {\n",
       "        vertical-align: middle;\n",
       "    }\n",
       "\n",
       "    .dataframe tbody tr th {\n",
       "        vertical-align: top;\n",
       "    }\n",
       "\n",
       "    .dataframe thead th {\n",
       "        text-align: right;\n",
       "    }\n",
       "</style>\n",
       "<table border=\"1\" class=\"dataframe\">\n",
       "  <thead>\n",
       "    <tr style=\"text-align: right;\">\n",
       "      <th></th>\n",
       "      <th>artists</th>\n",
       "      <th>track_name</th>\n",
       "      <th>clusters</th>\n",
       "    </tr>\n",
       "  </thead>\n",
       "  <tbody>\n",
       "    <tr>\n",
       "      <th>0</th>\n",
       "      <td>Queen</td>\n",
       "      <td>Bohemian Rhapsody - Remastered 2011</td>\n",
       "      <td>1</td>\n",
       "    </tr>\n",
       "    <tr>\n",
       "      <th>1</th>\n",
       "      <td>Deep Purple</td>\n",
       "      <td>Child in Time</td>\n",
       "      <td>2</td>\n",
       "    </tr>\n",
       "    <tr>\n",
       "      <th>2</th>\n",
       "      <td>Meat Loaf</td>\n",
       "      <td>Paradise By the Dashboard Light</td>\n",
       "      <td>7</td>\n",
       "    </tr>\n",
       "    <tr>\n",
       "      <th>3</th>\n",
       "      <td>The Moody Blues</td>\n",
       "      <td>Nights In White Satin - Single Version / Mono</td>\n",
       "      <td>2</td>\n",
       "    </tr>\n",
       "    <tr>\n",
       "      <th>4</th>\n",
       "      <td>Aphrodite's Child</td>\n",
       "      <td>Rain And Tears</td>\n",
       "      <td>1</td>\n",
       "    </tr>\n",
       "    <tr>\n",
       "      <th>5</th>\n",
       "      <td>Eagles</td>\n",
       "      <td>Hotel California - 2013 Remaster</td>\n",
       "      <td>4</td>\n",
       "    </tr>\n",
       "    <tr>\n",
       "      <th>6</th>\n",
       "      <td>Elvis Presley</td>\n",
       "      <td>Suspicious Minds</td>\n",
       "      <td>4</td>\n",
       "    </tr>\n",
       "    <tr>\n",
       "      <th>7</th>\n",
       "      <td>Procol Harum</td>\n",
       "      <td>A Whiter Shade Of Pale</td>\n",
       "      <td>7</td>\n",
       "    </tr>\n",
       "    <tr>\n",
       "      <th>8</th>\n",
       "      <td>The Beatles</td>\n",
       "      <td>Yesterday - Remastered 2009</td>\n",
       "      <td>1</td>\n",
       "    </tr>\n",
       "    <tr>\n",
       "      <th>9</th>\n",
       "      <td>Barry White</td>\n",
       "      <td>You're The First, The Last, My Everything - Edit</td>\n",
       "      <td>4</td>\n",
       "    </tr>\n",
       "  </tbody>\n",
       "</table>\n",
       "</div>"
      ],
      "text/plain": [
       "             artists                                        track_name  \\\n",
       "0              Queen               Bohemian Rhapsody - Remastered 2011   \n",
       "1        Deep Purple                                     Child in Time   \n",
       "2          Meat Loaf                   Paradise By the Dashboard Light   \n",
       "3    The Moody Blues     Nights In White Satin - Single Version / Mono   \n",
       "4  Aphrodite's Child                                    Rain And Tears   \n",
       "5             Eagles                  Hotel California - 2013 Remaster   \n",
       "6      Elvis Presley                                  Suspicious Minds   \n",
       "7       Procol Harum                            A Whiter Shade Of Pale   \n",
       "8        The Beatles                       Yesterday - Remastered 2009   \n",
       "9        Barry White  You're The First, The Last, My Everything - Edit   \n",
       "\n",
       "   clusters  \n",
       "0         1  \n",
       "1         2  \n",
       "2         7  \n",
       "3         2  \n",
       "4         1  \n",
       "5         4  \n",
       "6         4  \n",
       "7         7  \n",
       "8         1  \n",
       "9         4  "
      ]
     },
     "execution_count": 2,
     "metadata": {},
     "output_type": "execute_result"
    }
   ],
   "source": [
    "df2 = pd.read_csv('songclusters.csv', index_col=0)\n",
    "df2.head(10)"
   ]
  },
  {
   "cell_type": "code",
   "execution_count": 3,
   "id": "02d8bc66",
   "metadata": {
    "scrolled": true
   },
   "outputs": [
    {
     "data": {
      "text/html": [
       "<div>\n",
       "<style scoped>\n",
       "    .dataframe tbody tr th:only-of-type {\n",
       "        vertical-align: middle;\n",
       "    }\n",
       "\n",
       "    .dataframe tbody tr th {\n",
       "        vertical-align: top;\n",
       "    }\n",
       "\n",
       "    .dataframe thead th {\n",
       "        text-align: right;\n",
       "    }\n",
       "</style>\n",
       "<table border=\"1\" class=\"dataframe\">\n",
       "  <thead>\n",
       "    <tr style=\"text-align: right;\">\n",
       "      <th></th>\n",
       "      <th>title</th>\n",
       "      <th>artist</th>\n",
       "    </tr>\n",
       "  </thead>\n",
       "  <tbody>\n",
       "    <tr>\n",
       "      <th>0</th>\n",
       "      <td>Rich Men North of Richmond</td>\n",
       "      <td>Oliver Anthony Music</td>\n",
       "    </tr>\n",
       "    <tr>\n",
       "      <th>1</th>\n",
       "      <td>Margaritaville</td>\n",
       "      <td>Jimmy Buffett</td>\n",
       "    </tr>\n",
       "    <tr>\n",
       "      <th>2</th>\n",
       "      <td>Come Monday</td>\n",
       "      <td>Jimmy Buffett</td>\n",
       "    </tr>\n",
       "    <tr>\n",
       "      <th>3</th>\n",
       "      <td>I Remember Everything (feat. Kacey Musgraves)</td>\n",
       "      <td>Zach Bryan</td>\n",
       "    </tr>\n",
       "    <tr>\n",
       "      <th>4</th>\n",
       "      <td>Paint The Town Red</td>\n",
       "      <td>Doja Cat</td>\n",
       "    </tr>\n",
       "  </tbody>\n",
       "</table>\n",
       "</div>"
      ],
      "text/plain": [
       "                                           title                artist\n",
       "0                     Rich Men North of Richmond  Oliver Anthony Music\n",
       "1                                 Margaritaville         Jimmy Buffett\n",
       "2                                    Come Monday         Jimmy Buffett\n",
       "3  I Remember Everything (feat. Kacey Musgraves)            Zach Bryan\n",
       "4                             Paint The Town Red              Doja Cat"
      ]
     },
     "execution_count": 3,
     "metadata": {},
     "output_type": "execute_result"
    }
   ],
   "source": [
    "df1 = pd.read_csv('datasongs.csv')\n",
    "df1.head()"
   ]
  },
  {
   "cell_type": "code",
   "execution_count": 4,
   "id": "7ccc53eb",
   "metadata": {},
   "outputs": [],
   "source": [
    "#Function to recommend song\n",
    "def song_recommender(df1, df2):\n",
    "    song = input(\"Please enter the name of a song: \")\n",
    "    # Check if the input contains at least one alphabetical character and/or alphanumeric character\n",
    "    if not (any(c.isalpha() for c in song) and any(c.isalnum() for c in song)):\n",
    "        print(\"Invalid input. Please enter a song name containing letters and/or numbers.\")\n",
    "        return\n",
    "    print(f\"You entered a valid song name: {song}\")\n",
    "    # Load Spotify secrets\n",
    "    secrets_file = open(\"secrets.txt\", \"r\")\n",
    "    string = secrets_file.read()\n",
    "    secrets_dict = {}\n",
    "    for line in string.split('\\n'):\n",
    "        if len(line) > 0:\n",
    "            secrets_dict[line.split(':')[0]] = line.split(':')[1].strip()\n",
    "    sp = spotipy.Spotify(auth_manager=SpotifyClientCredentials(client_id=secrets_dict['clientid'],\n",
    "                                                               client_secret=secrets_dict['clientsecret']))\n",
    "    results = sp.search(q='track:' + song, type='track')\n",
    "    track = pd.json_normalize(results[\"tracks\"][\"items\"])\n",
    "    if not track.empty:\n",
    "        song_id = track.iloc[0]['id']\n",
    "        song_url = track.iloc[0]['external_urls.spotify']\n",
    "    else:\n",
    "        print(\"Song not found in Spotify.\")\n",
    "        return\n",
    "    audio_features_list = sp.audio_features(song_id)\n",
    "    audio_features_df = pd.json_normalize(audio_features_list)\n",
    "    audio_features_df = audio_features_df[['duration_ms', 'danceability',\n",
    "                                           'energy', 'key', 'loudness', 'mode', 'speechiness', 'acousticness',\n",
    "                                           'instrumentalness', 'liveness', 'valence', 'tempo', 'time_signature']]\n",
    "    # Load scaler and transform data\n",
    "    with open('scaler.pkl', 'rb') as f:\n",
    "        loaded_scaler = pickle.load(f)\n",
    "        X = loaded_scaler.transform(audio_features_df)\n",
    "    # Load KMeans model and predict cluster\n",
    "    with open('kmeans.pkl', 'rb') as f:\n",
    "        loaded_kmeans = pickle.load(f)\n",
    "        clusters = loaded_kmeans.predict(X)\n",
    "    matching_song = df1[(df1['title'].str.lower() == song.lower())]\n",
    "    if not matching_song.empty:\n",
    "        print(f\"The song '{matching_song['title'].values[0]}' by {matching_song['artist'].values[0]} matches your input.\")\n",
    "        recommended_song = df1[df1['title'].str.lower() != song].sample(1)\n",
    "        print(f\"Here's a recommended song: '{recommended_song['title'].values[0]}' by {recommended_song['artist'].values[0]}\")\n",
    "        results2 = sp.search(q='track:' + recommended_song['Title'].values[0], type='track')\n",
    "        track2 = pd.json_normalize(results2[\"tracks\"][\"items\"])\n",
    "        song_url = track2.iloc[0]['external_urls.spotify']\n",
    "        print(f\"Here's a url of the song: {song_url}\")\n",
    "    else:\n",
    "        cluster_df = df2[df2['clusters'] == clusters[0]]\n",
    "        recommended_song2 = cluster_df[cluster_df['track_name'].str.lower() != song].sample(1)\n",
    "        print(f\"Here's a recommended song: '{recommended_song2['track_name'].values[0]}' by {recommended_song2['artists'].values[0]}\")\n",
    "        results3 = sp.search(q='track:' + recommended_song2['track_name'].values[0], type='track')\n",
    "        track3 = pd.json_normalize(results3[\"tracks\"][\"items\"])\n",
    "        song_url = track3.iloc[0]['external_urls.spotify']\n",
    "        print(f\"Here's a url of the song: {song_url}\")"
   ]
  },
  {
   "cell_type": "code",
   "execution_count": 5,
   "id": "702c99b3",
   "metadata": {},
   "outputs": [
    {
     "name": "stdout",
     "output_type": "stream",
     "text": [
      "Please enter the name of a song: December\n",
      "You entered a valid song name: December\n"
     ]
    },
    {
     "name": "stderr",
     "output_type": "stream",
     "text": [
      "/Users/heloisabal/anaconda3/lib/python3.10/site-packages/sklearn/base.py:413: UserWarning: X has feature names, but StandardScaler was fitted without feature names\n",
      "  warnings.warn(\n"
     ]
    },
    {
     "name": "stdout",
     "output_type": "stream",
     "text": [
      "Here's a recommended song: 'Odawa' by Omar S\n",
      "Here's a url of the song: https://open.spotify.com/track/3wlwwapt8U9PPR33s1ESR4\n"
     ]
    }
   ],
   "source": [
    "song_recommender(df1, df2)"
   ]
  },
  {
   "cell_type": "code",
   "execution_count": 10,
   "id": "6be80f9d",
   "metadata": {},
   "outputs": [],
   "source": [
    "def recommender(df1, df2):\n",
    "    song = input(\"Please enter the name of a song: \")\n",
    "    # Check if the input contains at least one alphabetical character and/or alphanumeric character\n",
    "    if not (any(c.isalpha() for c in song) and any(c.isalnum() for c in song)):\n",
    "        print(\"Invalid input. Please enter a song name containing letters and/or numbers.\")\n",
    "        return\n",
    "    print(f\"You entered a valid song name: {song}\")\n",
    "    while True:  # This loop will continue to run until \"ok\" is entered by the user\n",
    "        # Load Spotify secrets\n",
    "        secrets_file = open(\"secrets.txt\", \"r\")\n",
    "        string = secrets_file.read()\n",
    "        secrets_dict = {}\n",
    "        for line in string.split('\\n'):\n",
    "            if len(line) > 0:\n",
    "                secrets_dict[line.split(':')[0]] = line.split(':')[1].strip()\n",
    "        sp = spotipy.Spotify(auth_manager=SpotifyClientCredentials(client_id=secrets_dict['clientid'],\n",
    "                                                               client_secret=secrets_dict['clientsecret']))\n",
    "        results = sp.search(q='track:' + song, type='track')\n",
    "        track = pd.json_normalize(results[\"tracks\"][\"items\"])\n",
    "        if not track.empty:\n",
    "            song_id = track.iloc[0]['id']\n",
    "            song_url = track.iloc[0]['external_urls.spotify']\n",
    "        else:\n",
    "            print(\"Song not found in Spotify.\")\n",
    "            return\n",
    "        audio_features_list = sp.audio_features(song_id)\n",
    "        audio_features_df = pd.json_normalize(audio_features_list)\n",
    "        audio_features_df = audio_features_df[['duration_ms', 'danceability',\n",
    "                                           'energy', 'key', 'loudness', 'mode', 'speechiness', 'acousticness',\n",
    "                                           'instrumentalness', 'liveness', 'valence', 'tempo', 'time_signature']]\n",
    "        # Load scaler and transform data\n",
    "        with open('scaler.pkl', 'rb') as f:\n",
    "            loaded_scaler = pickle.load(f)\n",
    "            X = loaded_scaler.transform(audio_features_df)\n",
    "        # Load KMeans model and predict cluster\n",
    "        with open('kmeans.pkl', 'rb') as f:\n",
    "            loaded_kmeans = pickle.load(f)\n",
    "            clusters = loaded_kmeans.predict(X)\n",
    "        matching_song = df1[(df1['title'].str.lower() == song.lower())]\n",
    "        if not matching_song.empty:\n",
    "            print(f\"The song '{matching_song['title'].values[0]}' by {matching_song['artist'].values[0]} matches your input.\")\n",
    "            recommended_song = df1[df1['title'].str.lower() != song].sample(1)\n",
    "            print(f\"Here's a recommended song: '{recommended_song['title'].values[0]}' by {recommended_song['artist'].values[0]}\")\n",
    "            results2 = sp.search(q='track:' + recommended_song['title'].values[0], type='track')\n",
    "            track2 = pd.json_normalize(results2[\"tracks\"][\"items\"])\n",
    "            song_url = track2.iloc[0]['external_urls.spotify']\n",
    "            print(f\"Here's a url of the song: {song_url}\")\n",
    "        else:\n",
    "            cluster_df = df2[df2['clusters'] == clusters[0]]\n",
    "            recommended_song2 = cluster_df[cluster_df['track_name'].str.lower() != song].sample(1)\n",
    "            print(f\"Here's a recommended song: '{recommended_song2['track_name'].values[0]}' by {recommended_song2['artists'].values[0]}\")\n",
    "            results3 = sp.search(q='track:' + recommended_song2['track_name'].values[0], type='track')\n",
    "            track3 = pd.json_normalize(results3[\"tracks\"][\"items\"])\n",
    "            song_url = track3.iloc[0]['external_urls.spotify']\n",
    "            print(f\"Here's a url of the song: {song_url}\")\n",
    "        user_feedback = input(\"If you want another recommendation, type 'next'. If you're satisfied, type 'ok': \").strip().lower()\n",
    "        if user_feedback == 'ok':\n",
    "            break\n",
    "        elif user_feedback == 'next':\n",
    "            continue\n",
    "        else:\n",
    "            print(\"Invalid input. Please type 'next' or 'ok'.\")"
   ]
  },
  {
   "cell_type": "code",
   "execution_count": null,
   "id": "795e1750",
   "metadata": {},
   "outputs": [
    {
     "name": "stdout",
     "output_type": "stream",
     "text": [
      "Please enter the name of a song: Hello\n",
      "You entered a valid song name: Hello\n"
     ]
    },
    {
     "name": "stderr",
     "output_type": "stream",
     "text": [
      "/Users/heloisabal/anaconda3/lib/python3.10/site-packages/sklearn/base.py:413: UserWarning: X has feature names, but StandardScaler was fitted without feature names\n",
      "  warnings.warn(\n"
     ]
    },
    {
     "name": "stdout",
     "output_type": "stream",
     "text": [
      "Here's a recommended song: 'Joy' by Apollo 100\n",
      "Here's a url of the song: https://open.spotify.com/track/4EuaDcxHmHKS6gZ5iuGba0\n"
     ]
    }
   ],
   "source": [
    "recommender(df1, df2)"
   ]
  },
  {
   "cell_type": "code",
   "execution_count": null,
   "id": "d8bfff3a",
   "metadata": {},
   "outputs": [],
   "source": []
  },
  {
   "cell_type": "code",
   "execution_count": null,
   "id": "e29a4235",
   "metadata": {},
   "outputs": [],
   "source": []
  },
  {
   "cell_type": "code",
   "execution_count": null,
   "id": "d619dab6",
   "metadata": {},
   "outputs": [],
   "source": []
  },
  {
   "cell_type": "code",
   "execution_count": null,
   "id": "e3494183",
   "metadata": {},
   "outputs": [],
   "source": []
  },
  {
   "cell_type": "code",
   "execution_count": null,
   "id": "e83fa495",
   "metadata": {},
   "outputs": [],
   "source": []
  }
 ],
 "metadata": {
  "kernelspec": {
   "display_name": "Python 3 (ipykernel)",
   "language": "python",
   "name": "python3"
  },
  "language_info": {
   "codemirror_mode": {
    "name": "ipython",
    "version": 3
   },
   "file_extension": ".py",
   "mimetype": "text/x-python",
   "name": "python",
   "nbconvert_exporter": "python",
   "pygments_lexer": "ipython3",
   "version": "3.10.9"
  }
 },
 "nbformat": 4,
 "nbformat_minor": 5
}
