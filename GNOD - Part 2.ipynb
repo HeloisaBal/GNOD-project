{
 "cells": [
  {
   "cell_type": "code",
   "execution_count": 1,
   "id": "702dfbc8",
   "metadata": {},
   "outputs": [],
   "source": [
    "import requests\n",
    "import pandas as pd\n",
    "from time import sleep\n",
    "from random import randint\n",
    "import pandas as pd\n",
    "import numpy as np\n",
    "import spotipy\n",
    "from spotipy.oauth2 import SpotifyClientCredentials\n",
    "import pickle"
   ]
  },
  {
   "cell_type": "code",
   "execution_count": 2,
   "id": "ae992de7",
   "metadata": {},
   "outputs": [
    {
     "data": {
      "text/html": [
       "<div>\n",
       "<style scoped>\n",
       "    .dataframe tbody tr th:only-of-type {\n",
       "        vertical-align: middle;\n",
       "    }\n",
       "\n",
       "    .dataframe tbody tr th {\n",
       "        vertical-align: top;\n",
       "    }\n",
       "\n",
       "    .dataframe thead th {\n",
       "        text-align: right;\n",
       "    }\n",
       "</style>\n",
       "<table border=\"1\" class=\"dataframe\">\n",
       "  <thead>\n",
       "    <tr style=\"text-align: right;\">\n",
       "      <th></th>\n",
       "      <th>artists</th>\n",
       "      <th>track_name</th>\n",
       "      <th>clusters</th>\n",
       "    </tr>\n",
       "  </thead>\n",
       "  <tbody>\n",
       "    <tr>\n",
       "      <th>0</th>\n",
       "      <td>Queen</td>\n",
       "      <td>Bohemian Rhapsody - Remastered 2011</td>\n",
       "      <td>1</td>\n",
       "    </tr>\n",
       "    <tr>\n",
       "      <th>1</th>\n",
       "      <td>Deep Purple</td>\n",
       "      <td>Child in Time</td>\n",
       "      <td>0</td>\n",
       "    </tr>\n",
       "    <tr>\n",
       "      <th>2</th>\n",
       "      <td>Meat Loaf</td>\n",
       "      <td>Paradise By the Dashboard Light</td>\n",
       "      <td>2</td>\n",
       "    </tr>\n",
       "    <tr>\n",
       "      <th>3</th>\n",
       "      <td>The Moody Blues</td>\n",
       "      <td>Nights In White Satin - Single Version / Mono</td>\n",
       "      <td>0</td>\n",
       "    </tr>\n",
       "    <tr>\n",
       "      <th>4</th>\n",
       "      <td>Aphrodite's Child</td>\n",
       "      <td>Rain And Tears</td>\n",
       "      <td>1</td>\n",
       "    </tr>\n",
       "  </tbody>\n",
       "</table>\n",
       "</div>"
      ],
      "text/plain": [
       "             artists                                     track_name  clusters\n",
       "0              Queen            Bohemian Rhapsody - Remastered 2011         1\n",
       "1        Deep Purple                                  Child in Time         0\n",
       "2          Meat Loaf                Paradise By the Dashboard Light         2\n",
       "3    The Moody Blues  Nights In White Satin - Single Version / Mono         0\n",
       "4  Aphrodite's Child                                 Rain And Tears         1"
      ]
     },
     "execution_count": 2,
     "metadata": {},
     "output_type": "execute_result"
    }
   ],
   "source": [
    "df2 = pd.read_csv('songclusters.csv', index_col=0)\n",
    "df2.head()"
   ]
  },
  {
   "cell_type": "code",
   "execution_count": 3,
   "id": "43edef7b",
   "metadata": {
    "scrolled": true
   },
   "outputs": [
    {
     "data": {
      "text/html": [
       "<div>\n",
       "<style scoped>\n",
       "    .dataframe tbody tr th:only-of-type {\n",
       "        vertical-align: middle;\n",
       "    }\n",
       "\n",
       "    .dataframe tbody tr th {\n",
       "        vertical-align: top;\n",
       "    }\n",
       "\n",
       "    .dataframe thead th {\n",
       "        text-align: right;\n",
       "    }\n",
       "</style>\n",
       "<table border=\"1\" class=\"dataframe\">\n",
       "  <thead>\n",
       "    <tr style=\"text-align: right;\">\n",
       "      <th></th>\n",
       "      <th>title</th>\n",
       "      <th>artist</th>\n",
       "    </tr>\n",
       "  </thead>\n",
       "  <tbody>\n",
       "    <tr>\n",
       "      <th>0</th>\n",
       "      <td>Rich Men North of Richmond</td>\n",
       "      <td>Oliver Anthony Music</td>\n",
       "    </tr>\n",
       "    <tr>\n",
       "      <th>1</th>\n",
       "      <td>Margaritaville</td>\n",
       "      <td>Jimmy Buffett</td>\n",
       "    </tr>\n",
       "    <tr>\n",
       "      <th>2</th>\n",
       "      <td>Come Monday</td>\n",
       "      <td>Jimmy Buffett</td>\n",
       "    </tr>\n",
       "    <tr>\n",
       "      <th>3</th>\n",
       "      <td>I Remember Everything (feat. Kacey Musgraves)</td>\n",
       "      <td>Zach Bryan</td>\n",
       "    </tr>\n",
       "    <tr>\n",
       "      <th>4</th>\n",
       "      <td>Paint The Town Red</td>\n",
       "      <td>Doja Cat</td>\n",
       "    </tr>\n",
       "  </tbody>\n",
       "</table>\n",
       "</div>"
      ],
      "text/plain": [
       "                                           title                artist\n",
       "0                     Rich Men North of Richmond  Oliver Anthony Music\n",
       "1                                 Margaritaville         Jimmy Buffett\n",
       "2                                    Come Monday         Jimmy Buffett\n",
       "3  I Remember Everything (feat. Kacey Musgraves)            Zach Bryan\n",
       "4                             Paint The Town Red              Doja Cat"
      ]
     },
     "execution_count": 3,
     "metadata": {},
     "output_type": "execute_result"
    }
   ],
   "source": [
    "df1 = pd.read_csv('datasongs.csv')\n",
    "df1.head()"
   ]
  },
  {
   "cell_type": "code",
   "execution_count": 4,
   "id": "9ded36b4",
   "metadata": {},
   "outputs": [
    {
     "name": "stdout",
     "output_type": "stream",
     "text": [
      "Please enter the name of a song: august\n",
      "You entered a valid song name: august\n"
     ]
    }
   ],
   "source": [
    "song_name = input(\"Please enter the name of a song: \")\n",
    "\n",
    "if any(c.isalpha() for c in song_name) and any(c.isalnum() for c in song_name):\n",
    "    print(f\"You entered a valid song name: {song_name}\")\n",
    "else:\n",
    "    print(\"Invalid input. Please enter a song name containing letters and/or numbers.\")"
   ]
  },
  {
   "cell_type": "code",
   "execution_count": 5,
   "id": "3ebea538",
   "metadata": {},
   "outputs": [],
   "source": [
    "#Function to recommend song\n",
    "\n",
    "def song_recommender(song, df1, df2):\n",
    "    # Load Spotify secrets\n",
    "    secrets_file = open(\"secrets.txt\", \"r\")\n",
    "    string = secrets_file.read()\n",
    "    secrets_dict = {}\n",
    "    for line in string.split('\\n'):\n",
    "        if len(line) > 0:\n",
    "            secrets_dict[line.split(':')[0]] = line.split(':')[1].strip()\n",
    "    sp = spotipy.Spotify(auth_manager=SpotifyClientCredentials(client_id=secrets_dict['clientid'],\n",
    "                                                               client_secret=secrets_dict['clientsecret']))\n",
    "    results = sp.search(q='track:' + song, type='track')\n",
    "    track = pd.json_normalize(results[\"tracks\"][\"items\"])\n",
    "    if not track.empty:\n",
    "        song_id = track.iloc[0]['id']\n",
    "    else:\n",
    "        print(\"Song not found in Spotify.\")\n",
    "        return\n",
    "    audio_features_list = sp.audio_features(song_id)\n",
    "    audio_features_df = pd.json_normalize(audio_features_list)\n",
    "    audio_features_df = audio_features_df[['duration_ms', 'danceability',\n",
    "                                           'energy', 'key', 'loudness', 'mode', 'speechiness', 'acousticness',\n",
    "                                           'instrumentalness', 'liveness', 'valence', 'tempo', 'time_signature']]\n",
    "    # Load scaler and transform data\n",
    "    with open('scaler.pkl', 'rb') as f:\n",
    "        loaded_scaler = pickle.load(f)\n",
    "        X = loaded_scaler.transform(audio_features_df)\n",
    "    # Load KMeans model and predict cluster\n",
    "    with open('kmeans.pkl', 'rb') as f:\n",
    "        loaded_kmeans = pickle.load(f)\n",
    "        clusters = loaded_kmeans.predict(X)\n",
    "    matching_song = df1[(df1['title'].str.lower() == song.lower())]\n",
    "    if not matching_song.empty:\n",
    "        print(f\"The song '{matching_song['title'].values[0]}' by {matching_song['artist'].values[0]} matches your input.\")\n",
    "        recommended_song = df1[df1['title'].str.lower() != song].sample(1)\n",
    "        print(f\"Here's a recommended song: '{recommended_song['title'].values[0]}' by {recommended_song['artist'].values[0]}\")\n",
    "    else:\n",
    "        cluster_df = df2[df2['clusters'] == clusters[0]]\n",
    "        recommended_song2 = cluster_df[cluster_df['track_name'].str.lower() != song].sample(1)\n",
    "        print(f\"Here's a recommended song from spotify: '{recommended_song2['track_name'].values[0]}' by {recommended_song2['artists'].values[0]}\")"
   ]
  },
  {
   "cell_type": "code",
   "execution_count": 7,
   "id": "19347fbc",
   "metadata": {},
   "outputs": [
    {
     "name": "stdout",
     "output_type": "stream",
     "text": [
      "Please enter the name of a song: efqfewfe\n",
      "Song not found in Spotify.\n"
     ]
    }
   ],
   "source": [
    "song_name = input(\"Please enter the name of a song: \")\n",
    "song_recommender(song_name, df1, df2)"
   ]
  },
  {
   "cell_type": "code",
   "execution_count": null,
   "id": "1ffb1ce1",
   "metadata": {},
   "outputs": [],
   "source": []
  },
  {
   "cell_type": "code",
   "execution_count": null,
   "id": "a69e5f90",
   "metadata": {},
   "outputs": [],
   "source": []
  },
  {
   "cell_type": "code",
   "execution_count": null,
   "id": "142e34f3",
   "metadata": {},
   "outputs": [],
   "source": []
  },
  {
   "cell_type": "code",
   "execution_count": null,
   "id": "fa5ae7dd",
   "metadata": {},
   "outputs": [],
   "source": []
  },
  {
   "cell_type": "code",
   "execution_count": null,
   "id": "afcb1353",
   "metadata": {},
   "outputs": [],
   "source": []
  },
  {
   "cell_type": "code",
   "execution_count": null,
   "id": "cb22ccb9",
   "metadata": {},
   "outputs": [],
   "source": []
  },
  {
   "cell_type": "code",
   "execution_count": null,
   "id": "130bfc44",
   "metadata": {},
   "outputs": [],
   "source": []
  },
  {
   "cell_type": "code",
   "execution_count": null,
   "id": "54bae1a9",
   "metadata": {},
   "outputs": [],
   "source": []
  },
  {
   "cell_type": "code",
   "execution_count": null,
   "id": "84fa7d82",
   "metadata": {},
   "outputs": [],
   "source": []
  },
  {
   "cell_type": "code",
   "execution_count": null,
   "id": "45b232df",
   "metadata": {},
   "outputs": [],
   "source": []
  }
 ],
 "metadata": {
  "kernelspec": {
   "display_name": "Python 3 (ipykernel)",
   "language": "python",
   "name": "python3"
  },
  "language_info": {
   "codemirror_mode": {
    "name": "ipython",
    "version": 3
   },
   "file_extension": ".py",
   "mimetype": "text/x-python",
   "name": "python",
   "nbconvert_exporter": "python",
   "pygments_lexer": "ipython3",
   "version": "3.10.9"
  }
 },
 "nbformat": 4,
 "nbformat_minor": 5
}
